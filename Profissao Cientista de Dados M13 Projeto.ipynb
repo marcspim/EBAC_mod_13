{
 "cells": [
  {
   "cell_type": "markdown",
   "metadata": {
    "id": "VOTu7U3Mvxzq"
   },
   "source": [
    "# **MÓDULO 13**\n",
    "# Projeto - Fundamentos da Descoberta de Dados"
   ]
  },
  {
   "cell_type": "markdown",
   "metadata": {
    "id": "-HYgkdAywLd0"
   },
   "source": [
    "Nesse projeto trabalharemos com a base de dados de produtos de um supermercado do Chile.\n",
    "A ideia é que vocês apliquem os conceitos estatísticos vistos no último módulo, mais os conceitos de visualizações de dados através de gráficos e finalizem publicando no seu github!"
   ]
  },
  {
   "cell_type": "code",
   "execution_count": 77,
   "metadata": {
    "id": "OTdTnbzUwE2X"
   },
   "outputs": [],
   "source": [
    "import pandas as pd\n",
    "import matplotlib.pyplot as plt\n",
    "import plotly.express as px"
   ]
  },
  {
   "cell_type": "markdown",
   "metadata": {
    "id": "ky1Dk_KWywEa"
   },
   "source": [
    "Faça a leitura dos dados do arquivo CSV:\n",
    "\n",
    "\n",
    "Altere o código abaixo de acordo com seu diretório."
   ]
  },
  {
   "cell_type": "code",
   "execution_count": 78,
   "metadata": {
    "colab": {
     "base_uri": "https://localhost:8080/",
     "height": 363
    },
    "id": "bRBFyVB5wlny",
    "outputId": "cde5190b-fecf-48f8-e98c-5ec7e469bcfb"
   },
   "outputs": [
    {
     "data": {
      "text/html": [
       "<div>\n",
       "<style scoped>\n",
       "    .dataframe tbody tr th:only-of-type {\n",
       "        vertical-align: middle;\n",
       "    }\n",
       "\n",
       "    .dataframe tbody tr th {\n",
       "        vertical-align: top;\n",
       "    }\n",
       "\n",
       "    .dataframe thead th {\n",
       "        text-align: right;\n",
       "    }\n",
       "</style>\n",
       "<table border=\"1\" class=\"dataframe\">\n",
       "  <thead>\n",
       "    <tr style=\"text-align: right;\">\n",
       "      <th></th>\n",
       "      <th>title</th>\n",
       "      <th>Marca</th>\n",
       "      <th>Preco_Normal</th>\n",
       "      <th>Preco_Desconto</th>\n",
       "      <th>Preco_Anterior</th>\n",
       "      <th>Desconto</th>\n",
       "      <th>Categoria</th>\n",
       "    </tr>\n",
       "  </thead>\n",
       "  <tbody>\n",
       "    <tr>\n",
       "      <th>0</th>\n",
       "      <td>Pack 12 un, Leche extra proteína 1 L</td>\n",
       "      <td>Loncoleche</td>\n",
       "      <td>19788</td>\n",
       "      <td>0</td>\n",
       "      <td>0</td>\n",
       "      <td>0</td>\n",
       "      <td>lacteos</td>\n",
       "    </tr>\n",
       "    <tr>\n",
       "      <th>1</th>\n",
       "      <td>Pack 12 un, Leche chocolate receta original 1 L</td>\n",
       "      <td>Soprole</td>\n",
       "      <td>18228</td>\n",
       "      <td>0</td>\n",
       "      <td>0</td>\n",
       "      <td>0</td>\n",
       "      <td>lacteos</td>\n",
       "    </tr>\n",
       "    <tr>\n",
       "      <th>2</th>\n",
       "      <td>Pack 12 un, Leche semidescremada chocolate 1 L</td>\n",
       "      <td>Soprole</td>\n",
       "      <td>18228</td>\n",
       "      <td>0</td>\n",
       "      <td>0</td>\n",
       "      <td>0</td>\n",
       "      <td>lacteos</td>\n",
       "    </tr>\n",
       "    <tr>\n",
       "      <th>3</th>\n",
       "      <td>Pack 12 un, Leche semidescremada frutilla 1 L</td>\n",
       "      <td>Soprole</td>\n",
       "      <td>18228</td>\n",
       "      <td>0</td>\n",
       "      <td>0</td>\n",
       "      <td>0</td>\n",
       "      <td>lacteos</td>\n",
       "    </tr>\n",
       "    <tr>\n",
       "      <th>4</th>\n",
       "      <td>Pack 12 un, Leche sin lactosa chocolate 1 L</td>\n",
       "      <td>Loncoleche</td>\n",
       "      <td>17988</td>\n",
       "      <td>0</td>\n",
       "      <td>0</td>\n",
       "      <td>0</td>\n",
       "      <td>lacteos</td>\n",
       "    </tr>\n",
       "    <tr>\n",
       "      <th>5</th>\n",
       "      <td>Pack 12 un, Leche sin lactosa frutilla 1 L</td>\n",
       "      <td>Loncoleche</td>\n",
       "      <td>17988</td>\n",
       "      <td>0</td>\n",
       "      <td>0</td>\n",
       "      <td>0</td>\n",
       "      <td>lacteos</td>\n",
       "    </tr>\n",
       "    <tr>\n",
       "      <th>6</th>\n",
       "      <td>Pack 12 un, Leche saborizada light chocolate 1 L</td>\n",
       "      <td>Loncoleche</td>\n",
       "      <td>17988</td>\n",
       "      <td>0</td>\n",
       "      <td>0</td>\n",
       "      <td>0</td>\n",
       "      <td>lacteos</td>\n",
       "    </tr>\n",
       "    <tr>\n",
       "      <th>7</th>\n",
       "      <td>Pack 12 un, Leche saborizada frutilla 1 L</td>\n",
       "      <td>Colun</td>\n",
       "      <td>17388</td>\n",
       "      <td>0</td>\n",
       "      <td>0</td>\n",
       "      <td>0</td>\n",
       "      <td>lacteos</td>\n",
       "    </tr>\n",
       "    <tr>\n",
       "      <th>8</th>\n",
       "      <td>Pack 12 un, Leche saborizada vainilla 1 L</td>\n",
       "      <td>Colun</td>\n",
       "      <td>17388</td>\n",
       "      <td>0</td>\n",
       "      <td>0</td>\n",
       "      <td>0</td>\n",
       "      <td>lacteos</td>\n",
       "    </tr>\n",
       "    <tr>\n",
       "      <th>9</th>\n",
       "      <td>Pack 12 un, Leche saborizada manjar 1 L</td>\n",
       "      <td>Colun</td>\n",
       "      <td>17388</td>\n",
       "      <td>0</td>\n",
       "      <td>0</td>\n",
       "      <td>0</td>\n",
       "      <td>lacteos</td>\n",
       "    </tr>\n",
       "  </tbody>\n",
       "</table>\n",
       "</div>"
      ],
      "text/plain": [
       "                                              title       Marca  Preco_Normal  \\\n",
       "0              Pack 12 un, Leche extra proteína 1 L  Loncoleche         19788   \n",
       "1   Pack 12 un, Leche chocolate receta original 1 L     Soprole         18228   \n",
       "2    Pack 12 un, Leche semidescremada chocolate 1 L     Soprole         18228   \n",
       "3     Pack 12 un, Leche semidescremada frutilla 1 L     Soprole         18228   \n",
       "4       Pack 12 un, Leche sin lactosa chocolate 1 L  Loncoleche         17988   \n",
       "5        Pack 12 un, Leche sin lactosa frutilla 1 L  Loncoleche         17988   \n",
       "6  Pack 12 un, Leche saborizada light chocolate 1 L  Loncoleche         17988   \n",
       "7         Pack 12 un, Leche saborizada frutilla 1 L       Colun         17388   \n",
       "8         Pack 12 un, Leche saborizada vainilla 1 L       Colun         17388   \n",
       "9           Pack 12 un, Leche saborizada manjar 1 L       Colun         17388   \n",
       "\n",
       "   Preco_Desconto  Preco_Anterior  Desconto Categoria  \n",
       "0               0               0         0   lacteos  \n",
       "1               0               0         0   lacteos  \n",
       "2               0               0         0   lacteos  \n",
       "3               0               0         0   lacteos  \n",
       "4               0               0         0   lacteos  \n",
       "5               0               0         0   lacteos  \n",
       "6               0               0         0   lacteos  \n",
       "7               0               0         0   lacteos  \n",
       "8               0               0         0   lacteos  \n",
       "9               0               0         0   lacteos  "
      ]
     },
     "execution_count": 78,
     "metadata": {},
     "output_type": "execute_result"
    }
   ],
   "source": [
    "df = pd.read_csv(\"MODULO7_PROJETOFINAL_BASE_SUPERMERCADO.csv\")\n",
    "\n",
    "df.head(10)"
   ]
  },
  {
   "cell_type": "markdown",
   "metadata": {
    "id": "YJgKJ7Nxwtw2"
   },
   "source": [
    "Os campos do nosso dataframe são:\n",
    "\n",
    "**Title:** Nome do produto.\n",
    "\n",
    "\n",
    "**Marca:** A marca do produto.\n",
    "\n",
    "\n",
    "**Preco_Normal:** O preço em que o produto costuma ser vendido quando não há desconto.\n",
    "\n",
    "\n",
    "**Preco_Desconto:** O preço vendido após o desconto ser aplicado.\n",
    "\n",
    "\n",
    "**Preco_Anterior:** Preço em que era comercializado o produto antes do desconto aplicado.\n",
    "\n",
    "\n",
    "**Desconto:** Total de desconto aplicado.\n",
    "\n",
    "\n",
    "\n",
    "\n",
    "\n",
    "\n",
    "As colunas que aparecem com valores 0 são para os produtos onde não tivemos descontos aplicados.\n",
    "\n",
    "\n",
    "As categorias estão em espanhol!"
   ]
  },
  {
   "cell_type": "markdown",
   "metadata": {
    "id": "4u6WBeyyy6ri"
   },
   "source": [
    "# 1 - Traga a média e a mediana dos preços - coluna Preco_Normal - por categoria de produto.\n",
    "# Identifique as categorias que parecem ter um valor de média abaixo ou acima da mediana."
   ]
  },
  {
   "cell_type": "code",
   "execution_count": 79,
   "metadata": {
    "id": "E7B7FolOzVcJ"
   },
   "outputs": [
    {
     "name": "stdout",
     "output_type": "stream",
     "text": [
      "                    Categoria  Preco_Normal\n",
      "0  belleza-y-cuidado-personal   1783.556485\n",
      "1          comidas-preparadas   3095.043478\n",
      "2                  congelados   2108.042553\n",
      "3                      frutas   1724.473684\n",
      "4        instantaneos-y-sopas    765.491228\n",
      "5                     lacteos   2385.219239\n",
      "6                    verduras   1343.296875\n"
     ]
    }
   ],
   "source": [
    "#Seu código aqui para a média\n",
    "mean_categoria = df.groupby(\"Categoria\")[\"Preco_Normal\"].mean().reset_index()\n",
    "\n",
    "print(mean_categoria)"
   ]
  },
  {
   "cell_type": "code",
   "execution_count": 80,
   "metadata": {
    "id": "Rwf4V3hnzZwh"
   },
   "outputs": [
    {
     "name": "stdout",
     "output_type": "stream",
     "text": [
      "                    Categoria  Preco_Normal\n",
      "0  belleza-y-cuidado-personal        1569.0\n",
      "1          comidas-preparadas        3290.0\n",
      "2                  congelados        1519.0\n",
      "3                      frutas        1195.0\n",
      "4        instantaneos-y-sopas         439.0\n",
      "5                     lacteos         989.0\n",
      "6                    verduras        1180.0\n"
     ]
    }
   ],
   "source": [
    "#Seu código aqui para a mediana\n",
    "median_categoria = df.groupby(\"Categoria\")[\"Preco_Normal\"].median().reset_index()\n",
    "\n",
    "print(median_categoria)"
   ]
  },
  {
   "cell_type": "code",
   "execution_count": 81,
   "metadata": {},
   "outputs": [
    {
     "name": "stdout",
     "output_type": "stream",
     "text": [
      "                    Categoria  Preco_Normal\n",
      "0  belleza-y-cuidado-personal         False\n",
      "1          comidas-preparadas          True\n",
      "2                  congelados         False\n",
      "3                      frutas         False\n",
      "4        instantaneos-y-sopas         False\n",
      "5                     lacteos         False\n",
      "6                    verduras         False\n"
     ]
    }
   ],
   "source": [
    "# Visualizando quais categorias possuem média abaixo ou acima da mediana:\n",
    "me_l_md[\"Preco_Normal\"] = mean_categoria[\"Preco_Normal\"] < median_categoria[\"Preco_Normal\"]  # True para abaixo, False para acima\n",
    "\n",
    "print(me_l_md)"
   ]
  },
  {
   "cell_type": "markdown",
   "metadata": {
    "id": "nKBFOh-mzyWX"
   },
   "source": [
    "Digite aqui as categorias:\n",
    "A categoria com média abaixo de mediana é a de comidas preparadas ('comidas-preparadas'), enquanto as categorias com média acima da mediana são todas as outras."
   ]
  },
  {
   "cell_type": "markdown",
   "metadata": {
    "id": "jdHZurzDzca0"
   },
   "source": [
    "# 2 - Traga o desvio padrão por categoria de produto.\n",
    "# Qual o comportamento da média e mediana nas categorias com maior desvio?"
   ]
  },
  {
   "cell_type": "code",
   "execution_count": 82,
   "metadata": {
    "id": "xEXT1gtoz135"
   },
   "outputs": [
    {
     "name": "stdout",
     "output_type": "stream",
     "text": [
      "                    Categoria  Preco_Normal\n",
      "5                     lacteos   3925.816164\n",
      "0  belleza-y-cuidado-personal   2210.041719\n",
      "2                  congelados   2111.539896\n",
      "1          comidas-preparadas   2019.911428\n",
      "3                      frutas   1639.151114\n",
      "4        instantaneos-y-sopas   1170.232869\n",
      "6                    verduras   1012.699625\n"
     ]
    }
   ],
   "source": [
    "#Seu código aqui\n",
    "std_categoria = df.groupby(\"Categoria\")[\"Preco_Normal\"].std().reset_index().sort_values(by='Preco_Normal', ascending=False)\n",
    "\n",
    "print(std_categoria)"
   ]
  },
  {
   "cell_type": "markdown",
   "metadata": {
    "id": "HzsLO4nOz3yJ"
   },
   "source": [
    "Digite nesse campo o comportamento que você identificou:\n",
    "Em lácteos ('lacteos'), há uma grande diferença entre a média (maior) e a mediana (menor), o que indica a existência de produtos muito caros puxando a média para cima.\n",
    "Em comidas preparadas ('comidas-preparadas'), a média está abaixo da mediana, indicando uma possível concentração de produtos mais baratos com alguns preços muito altos elevando a mediana.\n",
    "Para as outras categorias de alto desvio, a média segue acima da mediana, o que indica que os preços mais altos também influenciam no valor da média (mesmo que de maneira menos expressiva do que nos lácteos)."
   ]
  },
  {
   "cell_type": "markdown",
   "metadata": {
    "id": "4aW51rCHBr2w"
   },
   "source": [
    "# 3 - Plot um boxplot da distribuição do Preco_Normal para a categoria que você identificou que tem o maior desvio padrão. Como é a distribuição desses dados segundo o boxplot? Você identifica muitos outliers?"
   ]
  },
  {
   "cell_type": "markdown",
   "metadata": {
    "id": "kwPKkUZnEUSb"
   },
   "source": [
    "Dica: Para trazer apenas os dados da categoria que você deseja você pode usar o df.loc[df['Categoria'] == 'CATEGORIA ESCOLHIDA'"
   ]
  },
  {
   "cell_type": "code",
   "execution_count": 83,
   "metadata": {
    "id": "_02thblTCKEF"
   },
   "outputs": [
    {
     "data": {
      "image/png": "[encoded data removed]",
      "text/plain": [
       "<Figure size 800x600 with 1 Axes>"
      ]
     },
     "metadata": {},
     "output_type": "display_data"
    }
   ],
   "source": [
    "#Seu código aqui\n",
    "# Dados da categoria \"lacteos\"\n",
    "df_categoria = df.loc[df['Categoria'] == 'lacteos']\n",
    "\n",
    "# Plotar o boxplot\n",
    "plt.figure(figsize=(8, 6))\n",
    "plt.boxplot(df_categoria['Preco_Normal'], vert=True)\n",
    "plt.title(f\"Distribuição do preço normal para {\"lácteos\"}\")\n",
    "plt.xlabel(\"Lácteos\")\n",
    "plt.ylabel(\"Preço Normal\")\n",
    "plt.show()"
   ]
  },
  {
   "cell_type": "markdown",
   "metadata": {},
   "source": [
    "A distribuição desses dados, conforme podemos observar no BoxPlot acima, apresenta diversos valores acima do limite estatístico para o qual podemos considerar uma distribuição normal. Ou seja, no caso dessa categoria, há muitos outliers, que influenciam diretamente nos valores da média (ser muito superior à mediana) e desvio padrão (o mais alto observado para o conjunto de dados)."
   ]
  },
  {
   "cell_type": "markdown",
   "metadata": {
    "id": "w5xgQBC_0Hg-"
   },
   "source": [
    "# 4 - Plote um gráfico de barras onde temos a média de descontos por categoria."
   ]
  },
  {
   "cell_type": "code",
   "execution_count": 84,
   "metadata": {
    "id": "DBj5zAdI0QfI"
   },
   "outputs": [
    {
     "data": {
      "image/png": "[encoded data removed]",
      "text/plain": [
       "<Figure size 1000x600 with 1 Axes>"
      ]
     },
     "metadata": {},
     "output_type": "display_data"
    }
   ],
   "source": [
    "# Seu código aqui\n",
    "# Cálculo da média de descontos por categoria\n",
    "desconto_medio = df.groupby(\"Categoria\")[\"Desconto\"].mean().reset_index()\n",
    "\n",
    "# Plotar gráfico de barras\n",
    "plt.figure(figsize=(10, 6))\n",
    "plt.bar(desconto_medio[\"Categoria\"], desconto_medio[\"Desconto\"], color='blue')\n",
    "plt.xticks(rotation=45, ha='right')\n",
    "plt.xlabel(\"Categoria\")\n",
    "plt.ylabel(\"Média de Desconto\")\n",
    "plt.title(\"Média de Descontos por Categoria\")\n",
    "plt.show()"
   ]
  },
  {
   "cell_type": "markdown",
   "metadata": {
    "id": "vqlx0w7E07uC"
   },
   "source": [
    "# 5 - Plote um gráfico de mapa interativo agrupando os dados por categoria, marca e trazendo a média de desconto."
   ]
  },
  {
   "cell_type": "code",
   "execution_count": 26,
   "metadata": {
    "id": "D-JWM64Q1NzB"
   },
   "outputs": [
    {
     "data": {
      "application/vnd.plotly.v1+json": {
       "config": {
        "plotlyServerURL": "https://plot.ly"
       },
       "data": [
        {
         "branchvalues": "total",
         "customdata": [
          [
           "belleza-y-cuidado-personal",
           "Always",
           495
          ],
          [
           "belleza-y-cuidado-personal",
           "Aquafresh",
           667
          ],
          [
           "belleza-y-cuidado-personal",
           "Axe",
           590
          ],
          [
           "belleza-y-cuidado-personal",
           "Ballerina",
           409
          ],
          [
           "belleza-y-cuidado-personal",
           "BiO",
           650
          ],
          [
           "congelados",
           "Bresler",
           752.125
          ],
          [
           "congelados",
           "Carte Dor",
           715
          ],
          [
           "belleza-y-cuidado-personal",
           "Colgate",
           491.8
          ],
          [
           "lacteos",
           "Colun",
           389
          ],
          [
           "congelados",
           "Cuisine & Co",
           576.8888888888889
          ],
          [
           "lacteos",
           "Cuisine & Co",
           359
          ],
          [
           "belleza-y-cuidado-personal",
           "Dove",
           921.1428571428571
          ],
          [
           "belleza-y-cuidado-personal",
           "Dove Men",
           1009
          ],
          [
           "congelados",
           "Frutos Del Maipo",
           340.6666666666667
          ],
          [
           "belleza-y-cuidado-personal",
           "Kotex",
           331
          ],
          [
           "belleza-y-cuidado-personal",
           "Ladysoft",
           569
          ],
          [
           "congelados",
           "Magnum",
           955
          ],
          [
           "congelados",
           "Mega",
           657
          ],
          [
           "congelados",
           "Minuto Verde",
           130
          ],
          [
           "lacteos",
           "Nestlé",
           76
          ],
          [
           "lacteos",
           "Nido",
           4349
          ],
          [
           "belleza-y-cuidado-personal",
           "Nosotras",
           569
          ],
          [
           "congelados",
           "Not Burger",
           210
          ],
          [
           "lacteos",
           "Not Milk",
           160
          ],
          [
           "belleza-y-cuidado-personal",
           "Oral Fresh",
           797
          ],
          [
           "belleza-y-cuidado-personal",
           "Oral-B",
           797
          ],
          [
           "comidas-preparadas",
           "PF",
           500
          ],
          [
           "belleza-y-cuidado-personal",
           "Pantene",
           799
          ],
          [
           "belleza-y-cuidado-personal",
           "Pepsodent",
           516.5
          ],
          [
           "belleza-y-cuidado-personal",
           "Protex",
           609
          ],
          [
           "belleza-y-cuidado-personal",
           "Rexona",
           660
          ],
          [
           "belleza-y-cuidado-personal",
           "Rexona Clinical",
           795
          ],
          [
           "belleza-y-cuidado-personal",
           "Rexona Men",
           660
          ],
          [
           "belleza-y-cuidado-personal",
           "Rexona Men Clinical",
           795
          ],
          [
           "congelados",
           "Sahne Nuss",
           657
          ],
          [
           "congelados",
           "San Jorge",
           140
          ],
          [
           "lacteos",
           "Santa Marta",
           299
          ],
          [
           "congelados",
           "Savory",
           695.0952380952381
          ],
          [
           "belleza-y-cuidado-personal",
           "Simonds",
           300
          ],
          [
           "lacteos",
           "Soprole",
           369
          ],
          [
           "congelados",
           "Super Beef",
           120
          ],
          [
           "lacteos",
           "Sureña",
           522
          ],
          [
           "congelados",
           "Viennetta Bresler",
           546
          ],
          [
           "belleza-y-cuidado-personal",
           "(?)",
           689.8545901885708
          ],
          [
           "comidas-preparadas",
           "PF",
           500
          ],
          [
           "congelados",
           "(?)",
           643.1889423546613
          ],
          [
           "lacteos",
           "(?)",
           3023.673923041545
          ]
         ],
         "domain": {
          "x": [
           0,
           1
          ],
          "y": [
           0,
           1
          ]
         },
         "hovertemplate": "labels=%{label}<br>Desconto_sum=%{value}<br>parent=%{parent}<br>id=%{id}<br>Categoria=%{customdata[0]}<br>Marca=%{customdata[1]}<br>Desconto=%{color}<extra></extra>",
         "ids": [
          "belleza-y-cuidado-personal/Always",
          "belleza-y-cuidado-personal/Aquafresh",
          "belleza-y-cuidado-personal/Axe",
          "belleza-y-cuidado-personal/Ballerina",
          "belleza-y-cuidado-personal/BiO",
          "congelados/Bresler",
          "congelados/Carte Dor",
          "belleza-y-cuidado-personal/Colgate",
          "lacteos/Colun",
          "congelados/Cuisine & Co",
          "lacteos/Cuisine & Co",
          "belleza-y-cuidado-personal/Dove",
          "belleza-y-cuidado-personal/Dove Men",
          "congelados/Frutos Del Maipo",
          "belleza-y-cuidado-personal/Kotex",
          "belleza-y-cuidado-personal/Ladysoft",
          "congelados/Magnum",
          "congelados/Mega",
          "congelados/Minuto Verde",
          "lacteos/Nestlé",
          "lacteos/Nido",
          "belleza-y-cuidado-personal/Nosotras",
          "congelados/Not Burger",
          "lacteos/Not Milk",
          "belleza-y-cuidado-personal/Oral Fresh",
          "belleza-y-cuidado-personal/Oral-B",
          "comidas-preparadas/PF",
          "belleza-y-cuidado-personal/Pantene",
          "belleza-y-cuidado-personal/Pepsodent",
          "belleza-y-cuidado-personal/Protex",
          "belleza-y-cuidado-personal/Rexona",
          "belleza-y-cuidado-personal/Rexona Clinical",
          "belleza-y-cuidado-personal/Rexona Men",
          "belleza-y-cuidado-personal/Rexona Men Clinical",
          "congelados/Sahne Nuss",
          "congelados/San Jorge",
          "lacteos/Santa Marta",
          "congelados/Savory",
          "belleza-y-cuidado-personal/Simonds",
          "lacteos/Soprole",
          "congelados/Super Beef",
          "lacteos/Sureña",
          "congelados/Viennetta Bresler",
          "belleza-y-cuidado-personal",
          "comidas-preparadas",
          "congelados",
          "lacteos"
         ],
         "labels": [
          "Always",
          "Aquafresh",
          "Axe",
          "Ballerina",
          "BiO",
          "Bresler",
          "Carte Dor",
          "Colgate",
          "Colun",
          "Cuisine & Co",
          "Cuisine & Co",
          "Dove",
          "Dove Men",
          "Frutos Del Maipo",
          "Kotex",
          "Ladysoft",
          "Magnum",
          "Mega",
          "Minuto Verde",
          "Nestlé",
          "Nido",
          "Nosotras",
          "Not Burger",
          "Not Milk",
          "Oral Fresh",
          "Oral-B",
          "PF",
          "Pantene",
          "Pepsodent",
          "Protex",
          "Rexona",
          "Rexona Clinical",
          "Rexona Men",
          "Rexona Men Clinical",
          "Sahne Nuss",
          "San Jorge",
          "Santa Marta",
          "Savory",
          "Simonds",
          "Soprole",
          "Super Beef",
          "Sureña",
          "Viennetta Bresler",
          "belleza-y-cuidado-personal",
          "comidas-preparadas",
          "congelados",
          "lacteos"
         ],
         "marker": {
          "coloraxis": "coloraxis",
          "colors": [
           495,
           667,
           590,
           409,
           650,
           752.125,
           715,
           491.8,
           389,
           576.8888888888889,
           359,
           921.1428571428571,
           1009,
           340.6666666666667,
           331,
           569,
           955,
           657,
           130,
           76,
           4349,
           569,
           210,
           160,
           797,
           797,
           500,
           799,
           516.5,
           609,
           660,
           795,
           660,
           795,
           657,
           140,
           299,
           695.0952380952381,
           300,
           369,
           120,
           522,
           546,
           689.8545901885708,
           500,
           643.1889423546613,
           3023.673923041545
          ]
         },
         "name": "",
         "parents": [
          "belleza-y-cuidado-personal",
          "belleza-y-cuidado-personal",
          "belleza-y-cuidado-personal",
          "belleza-y-cuidado-personal",
          "belleza-y-cuidado-personal",
          "congelados",
          "congelados",
          "belleza-y-cuidado-personal",
          "lacteos",
          "congelados",
          "lacteos",
          "belleza-y-cuidado-personal",
          "belleza-y-cuidado-personal",
          "congelados",
          "belleza-y-cuidado-personal",
          "belleza-y-cuidado-personal",
          "congelados",
          "congelados",
          "congelados",
          "lacteos",
          "lacteos",
          "belleza-y-cuidado-personal",
          "congelados",
          "lacteos",
          "belleza-y-cuidado-personal",
          "belleza-y-cuidado-personal",
          "comidas-preparadas",
          "belleza-y-cuidado-personal",
          "belleza-y-cuidado-personal",
          "belleza-y-cuidado-personal",
          "belleza-y-cuidado-personal",
          "belleza-y-cuidado-personal",
          "belleza-y-cuidado-personal",
          "belleza-y-cuidado-personal",
          "congelados",
          "congelados",
          "lacteos",
          "congelados",
          "belleza-y-cuidado-personal",
          "lacteos",
          "congelados",
          "lacteos",
          "congelados",
          "",
          "",
          "",
          ""
         ],
         "textinfo": "label+value",
         "type": "treemap",
         "values": [
          495,
          667,
          590,
          409,
          650,
          752.125,
          715,
          491.8,
          389,
          576.8888888888889,
          359,
          921.1428571428571,
          1009,
          340.6666666666667,
          331,
          569,
          955,
          657,
          130,
          76,
          4349,
          569,
          210,
          160,
          797,
          797,
          500,
          799,
          516.5,
          609,
          660,
          795,
          660,
          795,
          657,
          140,
          299,
          695.0952380952381,
          300,
          369,
          120,
          522,
          546,
          13430.442857142858,
          500,
          6494.775793650793,
          6523
         ]
        }
       ],
       "layout": {
        "autosize": true,
        "coloraxis": {
         "colorbar": {
          "title": {
           "text": "Desconto"
          }
         },
         "colorscale": [
          [
           0,
           "#0d0887"
          ],
          [
           0.1111111111111111,
           "#46039f"
          ],
          [
           0.2222222222222222,
           "#7201a8"
          ],
          [
           0.3333333333333333,
           "#9c179e"
          ],
          [
           0.4444444444444444,
           "#bd3786"
          ],
          [
           0.5555555555555556,
           "#d8576b"
          ],
          [
           0.6666666666666666,
           "#ed7953"
          ],
          [
           0.7777777777777778,
           "#fb9f3a"
          ],
          [
           0.8888888888888888,
           "#fdca26"
          ],
          [
           1,
           "#f0f921"
          ]
         ]
        },
        "legend": {
         "tracegroupgap": 0
        },
        "template": {
         "data": {
          "bar": [
           {
            "error_x": {
             "color": "#2a3f5f"
            },
            "error_y": {
             "color": "#2a3f5f"
            },
            "marker": {
             "line": {
              "color": "#E5ECF6",
              "width": 0.5
             },
             "pattern": {
              "fillmode": "overlay",
              "size": 10,
              "solidity": 0.2
             }
            },
            "type": "bar"
           }
          ],
          "barpolar": [
           {
            "marker": {
             "line": {
              "color": "#E5ECF6",
              "width": 0.5
             },
             "pattern": {
              "fillmode": "overlay",
              "size": 10,
              "solidity": 0.2
             }
            },
            "type": "barpolar"
           }
          ],
          "carpet": [
           {
            "aaxis": {
             "endlinecolor": "#2a3f5f",
             "gridcolor": "white",
             "linecolor": "white",
             "minorgridcolor": "white",
             "startlinecolor": "#2a3f5f"
            },
            "baxis": {
             "endlinecolor": "#2a3f5f",
             "gridcolor": "white",
             "linecolor": "white",
             "minorgridcolor": "white",
             "startlinecolor": "#2a3f5f"
            },
            "type": "carpet"
           }
          ],
          "choropleth": [
           {
            "colorbar": {
             "outlinewidth": 0,
             "ticks": ""
            },
            "type": "choropleth"
           }
          ],
          "contour": [
           {
            "colorbar": {
             "outlinewidth": 0,
             "ticks": ""
            },
            "colorscale": [
             [
              0,
              "#0d0887"
             ],
             [
              0.1111111111111111,
              "#46039f"
             ],
             [
              0.2222222222222222,
              "#7201a8"
             ],
             [
              0.3333333333333333,
              "#9c179e"
             ],
             [
              0.4444444444444444,
              "#bd3786"
             ],
             [
              0.5555555555555556,
              "#d8576b"
             ],
             [
              0.6666666666666666,
              "#ed7953"
             ],
             [
              0.7777777777777778,
              "#fb9f3a"
             ],
             [
              0.8888888888888888,
              "#fdca26"
             ],
             [
              1,
              "#f0f921"
             ]
            ],
            "type": "contour"
           }
          ],
          "contourcarpet": [
           {
            "colorbar": {
             "outlinewidth": 0,
             "ticks": ""
            },
            "type": "contourcarpet"
           }
          ],
          "heatmap": [
           {
            "colorbar": {
             "outlinewidth": 0,
             "ticks": ""
            },
            "colorscale": [
             [
              0,
              "#0d0887"
             ],
             [
              0.1111111111111111,
              "#46039f"
             ],
             [
              0.2222222222222222,
              "#7201a8"
             ],
             [
              0.3333333333333333,
              "#9c179e"
             ],
             [
              0.4444444444444444,
              "#bd3786"
             ],
             [
              0.5555555555555556,
              "#d8576b"
             ],
             [
              0.6666666666666666,
              "#ed7953"
             ],
             [
              0.7777777777777778,
              "#fb9f3a"
             ],
             [
              0.8888888888888888,
              "#fdca26"
             ],
             [
              1,
              "#f0f921"
             ]
            ],
            "type": "heatmap"
           }
          ],
          "heatmapgl": [
           {
            "colorbar": {
             "outlinewidth": 0,
             "ticks": ""
            },
            "colorscale": [
             [
              0,
              "#0d0887"
             ],
             [
              0.1111111111111111,
              "#46039f"
             ],
             [
              0.2222222222222222,
              "#7201a8"
             ],
             [
              0.3333333333333333,
              "#9c179e"
             ],
             [
              0.4444444444444444,
              "#bd3786"
             ],
             [
              0.5555555555555556,
              "#d8576b"
             ],
             [
              0.6666666666666666,
              "#ed7953"
             ],
             [
              0.7777777777777778,
              "#fb9f3a"
             ],
             [
              0.8888888888888888,
              "#fdca26"
             ],
             [
              1,
              "#f0f921"
             ]
            ],
            "type": "heatmapgl"
           }
          ],
          "histogram": [
           {
            "marker": {
             "pattern": {
              "fillmode": "overlay",
              "size": 10,
              "solidity": 0.2
             }
            },
            "type": "histogram"
           }
          ],
          "histogram2d": [
           {
            "colorbar": {
             "outlinewidth": 0,
             "ticks": ""
            },
            "colorscale": [
             [
              0,
              "#0d0887"
             ],
             [
              0.1111111111111111,
              "#46039f"
             ],
             [
              0.2222222222222222,
              "#7201a8"
             ],
             [
              0.3333333333333333,
              "#9c179e"
             ],
             [
              0.4444444444444444,
              "#bd3786"
             ],
             [
              0.5555555555555556,
              "#d8576b"
             ],
             [
              0.6666666666666666,
              "#ed7953"
             ],
             [
              0.7777777777777778,
              "#fb9f3a"
             ],
             [
              0.8888888888888888,
              "#fdca26"
             ],
             [
              1,
              "#f0f921"
             ]
            ],
            "type": "histogram2d"
           }
          ],
          "histogram2dcontour": [
           {
            "colorbar": {
             "outlinewidth": 0,
             "ticks": ""
            },
            "colorscale": [
             [
              0,
              "#0d0887"
             ],
             [
              0.1111111111111111,
              "#46039f"
             ],
             [
              0.2222222222222222,
              "#7201a8"
             ],
             [
              0.3333333333333333,
              "#9c179e"
             ],
             [
              0.4444444444444444,
              "#bd3786"
             ],
             [
              0.5555555555555556,
              "#d8576b"
             ],
             [
              0.6666666666666666,
              "#ed7953"
             ],
             [
              0.7777777777777778,
              "#fb9f3a"
             ],
             [
              0.8888888888888888,
              "#fdca26"
             ],
             [
              1,
              "#f0f921"
             ]
            ],
            "type": "histogram2dcontour"
           }
          ],
          "mesh3d": [
           {
            "colorbar": {
             "outlinewidth": 0,
             "ticks": ""
            },
            "type": "mesh3d"
           }
          ],
          "parcoords": [
           {
            "line": {
             "colorbar": {
              "outlinewidth": 0,
              "ticks": ""
             }
            },
            "type": "parcoords"
           }
          ],
          "pie": [
           {
            "automargin": true,
            "type": "pie"
           }
          ],
          "scatter": [
           {
            "fillpattern": {
             "fillmode": "overlay",
             "size": 10,
             "solidity": 0.2
            },
            "type": "scatter"
           }
          ],
          "scatter3d": [
           {
            "line": {
             "colorbar": {
              "outlinewidth": 0,
              "ticks": ""
             }
            },
            "marker": {
             "colorbar": {
              "outlinewidth": 0,
              "ticks": ""
             }
            },
            "type": "scatter3d"
           }
          ],
          "scattercarpet": [
           {
            "marker": {
             "colorbar": {
              "outlinewidth": 0,
              "ticks": ""
             }
            },
            "type": "scattercarpet"
           }
          ],
          "scattergeo": [
           {
            "marker": {
             "colorbar": {
              "outlinewidth": 0,
              "ticks": ""
             }
            },
            "type": "scattergeo"
           }
          ],
          "scattergl": [
           {
            "marker": {
             "colorbar": {
              "outlinewidth": 0,
              "ticks": ""
             }
            },
            "type": "scattergl"
           }
          ],
          "scattermapbox": [
           {
            "marker": {
             "colorbar": {
              "outlinewidth": 0,
              "ticks": ""
             }
            },
            "type": "scattermapbox"
           }
          ],
          "scatterpolar": [
           {
            "marker": {
             "colorbar": {
              "outlinewidth": 0,
              "ticks": ""
             }
            },
            "type": "scatterpolar"
           }
          ],
          "scatterpolargl": [
           {
            "marker": {
             "colorbar": {
              "outlinewidth": 0,
              "ticks": ""
             }
            },
            "type": "scatterpolargl"
           }
          ],
          "scatterternary": [
           {
            "marker": {
             "colorbar": {
              "outlinewidth": 0,
              "ticks": ""
             }
            },
            "type": "scatterternary"
           }
          ],
          "surface": [
           {
            "colorbar": {
             "outlinewidth": 0,
             "ticks": ""
            },
            "colorscale": [
             [
              0,
              "#0d0887"
             ],
             [
              0.1111111111111111,
              "#46039f"
             ],
             [
              0.2222222222222222,
              "#7201a8"
             ],
             [
              0.3333333333333333,
              "#9c179e"
             ],
             [
              0.4444444444444444,
              "#bd3786"
             ],
             [
              0.5555555555555556,
              "#d8576b"
             ],
             [
              0.6666666666666666,
              "#ed7953"
             ],
             [
              0.7777777777777778,
              "#fb9f3a"
             ],
             [
              0.8888888888888888,
              "#fdca26"
             ],
             [
              1,
              "#f0f921"
             ]
            ],
            "type": "surface"
           }
          ],
          "table": [
           {
            "cells": {
             "fill": {
              "color": "#EBF0F8"
             },
             "line": {
              "color": "white"
             }
            },
            "header": {
             "fill": {
              "color": "#C8D4E3"
             },
             "line": {
              "color": "white"
             }
            },
            "type": "table"
           }
          ]
         },
         "layout": {
          "annotationdefaults": {
           "arrowcolor": "#2a3f5f",
           "arrowhead": 0,
           "arrowwidth": 1
          },
          "autotypenumbers": "strict",
          "coloraxis": {
           "colorbar": {
            "outlinewidth": 0,
            "ticks": ""
           }
          },
          "colorscale": {
           "diverging": [
            [
             0,
             "#8e0152"
            ],
            [
             0.1,
             "#c51b7d"
            ],
            [
             0.2,
             "#de77ae"
            ],
            [
             0.3,
             "#f1b6da"
            ],
            [
             0.4,
             "#fde0ef"
            ],
            [
             0.5,
             "#f7f7f7"
            ],
            [
             0.6,
             "#e6f5d0"
            ],
            [
             0.7,
             "#b8e186"
            ],
            [
             0.8,
             "#7fbc41"
            ],
            [
             0.9,
             "#4d9221"
            ],
            [
             1,
             "#276419"
            ]
           ],
           "sequential": [
            [
             0,
             "#0d0887"
            ],
            [
             0.1111111111111111,
             "#46039f"
            ],
            [
             0.2222222222222222,
             "#7201a8"
            ],
            [
             0.3333333333333333,
             "#9c179e"
            ],
            [
             0.4444444444444444,
             "#bd3786"
            ],
            [
             0.5555555555555556,
             "#d8576b"
            ],
            [
             0.6666666666666666,
             "#ed7953"
            ],
            [
             0.7777777777777778,
             "#fb9f3a"
            ],
            [
             0.8888888888888888,
             "#fdca26"
            ],
            [
             1,
             "#f0f921"
            ]
           ],
           "sequentialminus": [
            [
             0,
             "#0d0887"
            ],
            [
             0.1111111111111111,
             "#46039f"
            ],
            [
             0.2222222222222222,
             "#7201a8"
            ],
            [
             0.3333333333333333,
             "#9c179e"
            ],
            [
             0.4444444444444444,
             "#bd3786"
            ],
            [
             0.5555555555555556,
             "#d8576b"
            ],
            [
             0.6666666666666666,
             "#ed7953"
            ],
            [
             0.7777777777777778,
             "#fb9f3a"
            ],
            [
             0.8888888888888888,
             "#fdca26"
            ],
            [
             1,
             "#f0f921"
            ]
           ]
          },
          "colorway": [
           "#636efa",
           "#EF553B",
           "#00cc96",
           "#ab63fa",
           "#FFA15A",
           "#19d3f3",
           "#FF6692",
           "#B6E880",
           "#FF97FF",
           "#FECB52"
          ],
          "font": {
           "color": "#2a3f5f"
          },
          "geo": {
           "bgcolor": "white",
           "lakecolor": "white",
           "landcolor": "#E5ECF6",
           "showlakes": true,
           "showland": true,
           "subunitcolor": "white"
          },
          "hoverlabel": {
           "align": "left"
          },
          "hovermode": "closest",
          "mapbox": {
           "style": "light"
          },
          "paper_bgcolor": "white",
          "plot_bgcolor": "#E5ECF6",
          "polar": {
           "angularaxis": {
            "gridcolor": "white",
            "linecolor": "white",
            "ticks": ""
           },
           "bgcolor": "#E5ECF6",
           "radialaxis": {
            "gridcolor": "white",
            "linecolor": "white",
            "ticks": ""
           }
          },
          "scene": {
           "xaxis": {
            "backgroundcolor": "#E5ECF6",
            "gridcolor": "white",
            "gridwidth": 2,
            "linecolor": "white",
            "showbackground": true,
            "ticks": "",
            "zerolinecolor": "white"
           },
           "yaxis": {
            "backgroundcolor": "#E5ECF6",
            "gridcolor": "white",
            "gridwidth": 2,
            "linecolor": "white",
            "showbackground": true,
            "ticks": "",
            "zerolinecolor": "white"
           },
           "zaxis": {
            "backgroundcolor": "#E5ECF6",
            "gridcolor": "white",
            "gridwidth": 2,
            "linecolor": "white",
            "showbackground": true,
            "ticks": "",
            "zerolinecolor": "white"
           }
          },
          "shapedefaults": {
           "line": {
            "color": "#2a3f5f"
           }
          },
          "ternary": {
           "aaxis": {
            "gridcolor": "white",
            "linecolor": "white",
            "ticks": ""
           },
           "baxis": {
            "gridcolor": "white",
            "linecolor": "white",
            "ticks": ""
           },
           "bgcolor": "#E5ECF6",
           "caxis": {
            "gridcolor": "white",
            "linecolor": "white",
            "ticks": ""
           }
          },
          "title": {
           "x": 0.05
          },
          "xaxis": {
           "automargin": true,
           "gridcolor": "white",
           "linecolor": "white",
           "ticks": "",
           "title": {
            "standoff": 15
           },
           "zerolinecolor": "white",
           "zerolinewidth": 2
          },
          "yaxis": {
           "automargin": true,
           "gridcolor": "white",
           "linecolor": "white",
           "ticks": "",
           "title": {
            "standoff": 15
           },
           "zerolinecolor": "white",
           "zerolinewidth": 2
          }
         }
        },
        "title": {
         "text": "Mapa Interativo - Média de Desconto por Categoria e Marca"
        }
       }
      },
      "image/png": "[encoded data removed]",
      "text/html": [
       "<div>                            <div id=\"2ee65161-db14-4df3-a60b-a0da4fc4e2e7\" class=\"plotly-graph-div\" style=\"height:800px; width:100%;\"></div>            <script type=\"text/javascript\">                require([\"plotly\"], function(Plotly) {                    window.PLOTLYENV=window.PLOTLYENV || {};                                    if (document.getElementById(\"2ee65161-db14-4df3-a60b-a0da4fc4e2e7\")) {                    Plotly.newPlot(                        \"2ee65161-db14-4df3-a60b-a0da4fc4e2e7\",                        [{\"branchvalues\":\"total\",\"customdata\":[[\"belleza-y-cuidado-personal\",\"Always\",495.0],[\"belleza-y-cuidado-personal\",\"Aquafresh\",667.0],[\"belleza-y-cuidado-personal\",\"Axe\",590.0],[\"belleza-y-cuidado-personal\",\"Ballerina\",409.0],[\"belleza-y-cuidado-personal\",\"BiO\",650.0],[\"congelados\",\"Bresler\",752.125],[\"congelados\",\"Carte Dor\",715.0],[\"belleza-y-cuidado-personal\",\"Colgate\",491.8],[\"lacteos\",\"Colun\",389.0],[\"congelados\",\"Cuisine & Co\",576.8888888888889],[\"lacteos\",\"Cuisine & Co\",359.0],[\"belleza-y-cuidado-personal\",\"Dove\",921.1428571428571],[\"belleza-y-cuidado-personal\",\"Dove Men\",1009.0],[\"congelados\",\"Frutos Del Maipo\",340.6666666666667],[\"belleza-y-cuidado-personal\",\"Kotex\",331.0],[\"belleza-y-cuidado-personal\",\"Ladysoft\",569.0],[\"congelados\",\"Magnum\",955.0],[\"congelados\",\"Mega\",657.0],[\"congelados\",\"Minuto Verde\",130.0],[\"lacteos\",\"Nestl\\u00e9\",76.0],[\"lacteos\",\"Nido\",4349.0],[\"belleza-y-cuidado-personal\",\"Nosotras\",569.0],[\"congelados\",\"Not Burger\",210.0],[\"lacteos\",\"Not Milk\",160.0],[\"belleza-y-cuidado-personal\",\"Oral Fresh\",797.0],[\"belleza-y-cuidado-personal\",\"Oral-B\",797.0],[\"comidas-preparadas\",\"PF\",500.0],[\"belleza-y-cuidado-personal\",\"Pantene\",799.0],[\"belleza-y-cuidado-personal\",\"Pepsodent\",516.5],[\"belleza-y-cuidado-personal\",\"Protex\",609.0],[\"belleza-y-cuidado-personal\",\"Rexona\",660.0],[\"belleza-y-cuidado-personal\",\"Rexona Clinical\",795.0],[\"belleza-y-cuidado-personal\",\"Rexona Men\",660.0],[\"belleza-y-cuidado-personal\",\"Rexona Men Clinical\",795.0],[\"congelados\",\"Sahne Nuss\",657.0],[\"congelados\",\"San Jorge\",140.0],[\"lacteos\",\"Santa Marta\",299.0],[\"congelados\",\"Savory\",695.0952380952381],[\"belleza-y-cuidado-personal\",\"Simonds\",300.0],[\"lacteos\",\"Soprole\",369.0],[\"congelados\",\"Super Beef\",120.0],[\"lacteos\",\"Sure\\u00f1a\",522.0],[\"congelados\",\"Viennetta Bresler\",546.0],[\"belleza-y-cuidado-personal\",\"(?)\",689.8545901885708],[\"comidas-preparadas\",\"PF\",500.0],[\"congelados\",\"(?)\",643.1889423546613],[\"lacteos\",\"(?)\",3023.673923041545]],\"domain\":{\"x\":[0.0,1.0],\"y\":[0.0,1.0]},\"hovertemplate\":\"labels=%{label}\\u003cbr\\u003eDesconto_sum=%{value}\\u003cbr\\u003eparent=%{parent}\\u003cbr\\u003eid=%{id}\\u003cbr\\u003eCategoria=%{customdata[0]}\\u003cbr\\u003eMarca=%{customdata[1]}\\u003cbr\\u003eDesconto=%{color}\\u003cextra\\u003e\\u003c\\u002fextra\\u003e\",\"ids\":[\"belleza-y-cuidado-personal\\u002fAlways\",\"belleza-y-cuidado-personal\\u002fAquafresh\",\"belleza-y-cuidado-personal\\u002fAxe\",\"belleza-y-cuidado-personal\\u002fBallerina\",\"belleza-y-cuidado-personal\\u002fBiO\",\"congelados\\u002fBresler\",\"congelados\\u002fCarte Dor\",\"belleza-y-cuidado-personal\\u002fColgate\",\"lacteos\\u002fColun\",\"congelados\\u002fCuisine & Co\",\"lacteos\\u002fCuisine & Co\",\"belleza-y-cuidado-personal\\u002fDove\",\"belleza-y-cuidado-personal\\u002fDove Men\",\"congelados\\u002fFrutos Del Maipo\",\"belleza-y-cuidado-personal\\u002fKotex\",\"belleza-y-cuidado-personal\\u002fLadysoft\",\"congelados\\u002fMagnum\",\"congelados\\u002fMega\",\"congelados\\u002fMinuto Verde\",\"lacteos\\u002fNestl\\u00e9\",\"lacteos\\u002fNido\",\"belleza-y-cuidado-personal\\u002fNosotras\",\"congelados\\u002fNot Burger\",\"lacteos\\u002fNot Milk\",\"belleza-y-cuidado-personal\\u002fOral Fresh\",\"belleza-y-cuidado-personal\\u002fOral-B\",\"comidas-preparadas\\u002fPF\",\"belleza-y-cuidado-personal\\u002fPantene\",\"belleza-y-cuidado-personal\\u002fPepsodent\",\"belleza-y-cuidado-personal\\u002fProtex\",\"belleza-y-cuidado-personal\\u002fRexona\",\"belleza-y-cuidado-personal\\u002fRexona Clinical\",\"belleza-y-cuidado-personal\\u002fRexona Men\",\"belleza-y-cuidado-personal\\u002fRexona Men Clinical\",\"congelados\\u002fSahne Nuss\",\"congelados\\u002fSan Jorge\",\"lacteos\\u002fSanta Marta\",\"congelados\\u002fSavory\",\"belleza-y-cuidado-personal\\u002fSimonds\",\"lacteos\\u002fSoprole\",\"congelados\\u002fSuper Beef\",\"lacteos\\u002fSure\\u00f1a\",\"congelados\\u002fViennetta Bresler\",\"belleza-y-cuidado-personal\",\"comidas-preparadas\",\"congelados\",\"lacteos\"],\"labels\":[\"Always\",\"Aquafresh\",\"Axe\",\"Ballerina\",\"BiO\",\"Bresler\",\"Carte Dor\",\"Colgate\",\"Colun\",\"Cuisine & Co\",\"Cuisine & Co\",\"Dove\",\"Dove Men\",\"Frutos Del Maipo\",\"Kotex\",\"Ladysoft\",\"Magnum\",\"Mega\",\"Minuto Verde\",\"Nestl\\u00e9\",\"Nido\",\"Nosotras\",\"Not Burger\",\"Not Milk\",\"Oral Fresh\",\"Oral-B\",\"PF\",\"Pantene\",\"Pepsodent\",\"Protex\",\"Rexona\",\"Rexona Clinical\",\"Rexona Men\",\"Rexona Men Clinical\",\"Sahne Nuss\",\"San Jorge\",\"Santa Marta\",\"Savory\",\"Simonds\",\"Soprole\",\"Super Beef\",\"Sure\\u00f1a\",\"Viennetta Bresler\",\"belleza-y-cuidado-personal\",\"comidas-preparadas\",\"congelados\",\"lacteos\"],\"marker\":{\"coloraxis\":\"coloraxis\",\"colors\":[495.0,667.0,590.0,409.0,650.0,752.125,715.0,491.8,389.0,576.8888888888889,359.0,921.1428571428571,1009.0,340.6666666666667,331.0,569.0,955.0,657.0,130.0,76.0,4349.0,569.0,210.0,160.0,797.0,797.0,500.0,799.0,516.5,609.0,660.0,795.0,660.0,795.0,657.0,140.0,299.0,695.0952380952381,300.0,369.0,120.0,522.0,546.0,689.8545901885708,500.0,643.1889423546613,3023.673923041545]},\"name\":\"\",\"parents\":[\"belleza-y-cuidado-personal\",\"belleza-y-cuidado-personal\",\"belleza-y-cuidado-personal\",\"belleza-y-cuidado-personal\",\"belleza-y-cuidado-personal\",\"congelados\",\"congelados\",\"belleza-y-cuidado-personal\",\"lacteos\",\"congelados\",\"lacteos\",\"belleza-y-cuidado-personal\",\"belleza-y-cuidado-personal\",\"congelados\",\"belleza-y-cuidado-personal\",\"belleza-y-cuidado-personal\",\"congelados\",\"congelados\",\"congelados\",\"lacteos\",\"lacteos\",\"belleza-y-cuidado-personal\",\"congelados\",\"lacteos\",\"belleza-y-cuidado-personal\",\"belleza-y-cuidado-personal\",\"comidas-preparadas\",\"belleza-y-cuidado-personal\",\"belleza-y-cuidado-personal\",\"belleza-y-cuidado-personal\",\"belleza-y-cuidado-personal\",\"belleza-y-cuidado-personal\",\"belleza-y-cuidado-personal\",\"belleza-y-cuidado-personal\",\"congelados\",\"congelados\",\"lacteos\",\"congelados\",\"belleza-y-cuidado-personal\",\"lacteos\",\"congelados\",\"lacteos\",\"congelados\",\"\",\"\",\"\",\"\"],\"values\":[495.0,667.0,590.0,409.0,650.0,752.125,715.0,491.8,389.0,576.8888888888889,359.0,921.1428571428571,1009.0,340.6666666666667,331.0,569.0,955.0,657.0,130.0,76.0,4349.0,569.0,210.0,160.0,797.0,797.0,500.0,799.0,516.5,609.0,660.0,795.0,660.0,795.0,657.0,140.0,299.0,695.0952380952381,300.0,369.0,120.0,522.0,546.0,13430.442857142858,500.0,6494.775793650793,6523.0],\"type\":\"treemap\",\"textinfo\":\"label+value\"}],                        {\"template\":{\"data\":{\"histogram2dcontour\":[{\"type\":\"histogram2dcontour\",\"colorbar\":{\"outlinewidth\":0,\"ticks\":\"\"},\"colorscale\":[[0.0,\"#0d0887\"],[0.1111111111111111,\"#46039f\"],[0.2222222222222222,\"#7201a8\"],[0.3333333333333333,\"#9c179e\"],[0.4444444444444444,\"#bd3786\"],[0.5555555555555556,\"#d8576b\"],[0.6666666666666666,\"#ed7953\"],[0.7777777777777778,\"#fb9f3a\"],[0.8888888888888888,\"#fdca26\"],[1.0,\"#f0f921\"]]}],\"choropleth\":[{\"type\":\"choropleth\",\"colorbar\":{\"outlinewidth\":0,\"ticks\":\"\"}}],\"histogram2d\":[{\"type\":\"histogram2d\",\"colorbar\":{\"outlinewidth\":0,\"ticks\":\"\"},\"colorscale\":[[0.0,\"#0d0887\"],[0.1111111111111111,\"#46039f\"],[0.2222222222222222,\"#7201a8\"],[0.3333333333333333,\"#9c179e\"],[0.4444444444444444,\"#bd3786\"],[0.5555555555555556,\"#d8576b\"],[0.6666666666666666,\"#ed7953\"],[0.7777777777777778,\"#fb9f3a\"],[0.8888888888888888,\"#fdca26\"],[1.0,\"#f0f921\"]]}],\"heatmap\":[{\"type\":\"heatmap\",\"colorbar\":{\"outlinewidth\":0,\"ticks\":\"\"},\"colorscale\":[[0.0,\"#0d0887\"],[0.1111111111111111,\"#46039f\"],[0.2222222222222222,\"#7201a8\"],[0.3333333333333333,\"#9c179e\"],[0.4444444444444444,\"#bd3786\"],[0.5555555555555556,\"#d8576b\"],[0.6666666666666666,\"#ed7953\"],[0.7777777777777778,\"#fb9f3a\"],[0.8888888888888888,\"#fdca26\"],[1.0,\"#f0f921\"]]}],\"heatmapgl\":[{\"type\":\"heatmapgl\",\"colorbar\":{\"outlinewidth\":0,\"ticks\":\"\"},\"colorscale\":[[0.0,\"#0d0887\"],[0.1111111111111111,\"#46039f\"],[0.2222222222222222,\"#7201a8\"],[0.3333333333333333,\"#9c179e\"],[0.4444444444444444,\"#bd3786\"],[0.5555555555555556,\"#d8576b\"],[0.6666666666666666,\"#ed7953\"],[0.7777777777777778,\"#fb9f3a\"],[0.8888888888888888,\"#fdca26\"],[1.0,\"#f0f921\"]]}],\"contourcarpet\":[{\"type\":\"contourcarpet\",\"colorbar\":{\"outlinewidth\":0,\"ticks\":\"\"}}],\"contour\":[{\"type\":\"contour\",\"colorbar\":{\"outlinewidth\":0,\"ticks\":\"\"},\"colorscale\":[[0.0,\"#0d0887\"],[0.1111111111111111,\"#46039f\"],[0.2222222222222222,\"#7201a8\"],[0.3333333333333333,\"#9c179e\"],[0.4444444444444444,\"#bd3786\"],[0.5555555555555556,\"#d8576b\"],[0.6666666666666666,\"#ed7953\"],[0.7777777777777778,\"#fb9f3a\"],[0.8888888888888888,\"#fdca26\"],[1.0,\"#f0f921\"]]}],\"surface\":[{\"type\":\"surface\",\"colorbar\":{\"outlinewidth\":0,\"ticks\":\"\"},\"colorscale\":[[0.0,\"#0d0887\"],[0.1111111111111111,\"#46039f\"],[0.2222222222222222,\"#7201a8\"],[0.3333333333333333,\"#9c179e\"],[0.4444444444444444,\"#bd3786\"],[0.5555555555555556,\"#d8576b\"],[0.6666666666666666,\"#ed7953\"],[0.7777777777777778,\"#fb9f3a\"],[0.8888888888888888,\"#fdca26\"],[1.0,\"#f0f921\"]]}],\"mesh3d\":[{\"type\":\"mesh3d\",\"colorbar\":{\"outlinewidth\":0,\"ticks\":\"\"}}],\"scatter\":[{\"fillpattern\":{\"fillmode\":\"overlay\",\"size\":10,\"solidity\":0.2},\"type\":\"scatter\"}],\"parcoords\":[{\"type\":\"parcoords\",\"line\":{\"colorbar\":{\"outlinewidth\":0,\"ticks\":\"\"}}}],\"scatterpolargl\":[{\"type\":\"scatterpolargl\",\"marker\":{\"colorbar\":{\"outlinewidth\":0,\"ticks\":\"\"}}}],\"bar\":[{\"error_x\":{\"color\":\"#2a3f5f\"},\"error_y\":{\"color\":\"#2a3f5f\"},\"marker\":{\"line\":{\"color\":\"#E5ECF6\",\"width\":0.5},\"pattern\":{\"fillmode\":\"overlay\",\"size\":10,\"solidity\":0.2}},\"type\":\"bar\"}],\"scattergeo\":[{\"type\":\"scattergeo\",\"marker\":{\"colorbar\":{\"outlinewidth\":0,\"ticks\":\"\"}}}],\"scatterpolar\":[{\"type\":\"scatterpolar\",\"marker\":{\"colorbar\":{\"outlinewidth\":0,\"ticks\":\"\"}}}],\"histogram\":[{\"marker\":{\"pattern\":{\"fillmode\":\"overlay\",\"size\":10,\"solidity\":0.2}},\"type\":\"histogram\"}],\"scattergl\":[{\"type\":\"scattergl\",\"marker\":{\"colorbar\":{\"outlinewidth\":0,\"ticks\":\"\"}}}],\"scatter3d\":[{\"type\":\"scatter3d\",\"line\":{\"colorbar\":{\"outlinewidth\":0,\"ticks\":\"\"}},\"marker\":{\"colorbar\":{\"outlinewidth\":0,\"ticks\":\"\"}}}],\"scattermapbox\":[{\"type\":\"scattermapbox\",\"marker\":{\"colorbar\":{\"outlinewidth\":0,\"ticks\":\"\"}}}],\"scatterternary\":[{\"type\":\"scatterternary\",\"marker\":{\"colorbar\":{\"outlinewidth\":0,\"ticks\":\"\"}}}],\"scattercarpet\":[{\"type\":\"scattercarpet\",\"marker\":{\"colorbar\":{\"outlinewidth\":0,\"ticks\":\"\"}}}],\"carpet\":[{\"aaxis\":{\"endlinecolor\":\"#2a3f5f\",\"gridcolor\":\"white\",\"linecolor\":\"white\",\"minorgridcolor\":\"white\",\"startlinecolor\":\"#2a3f5f\"},\"baxis\":{\"endlinecolor\":\"#2a3f5f\",\"gridcolor\":\"white\",\"linecolor\":\"white\",\"minorgridcolor\":\"white\",\"startlinecolor\":\"#2a3f5f\"},\"type\":\"carpet\"}],\"table\":[{\"cells\":{\"fill\":{\"color\":\"#EBF0F8\"},\"line\":{\"color\":\"white\"}},\"header\":{\"fill\":{\"color\":\"#C8D4E3\"},\"line\":{\"color\":\"white\"}},\"type\":\"table\"}],\"barpolar\":[{\"marker\":{\"line\":{\"color\":\"#E5ECF6\",\"width\":0.5},\"pattern\":{\"fillmode\":\"overlay\",\"size\":10,\"solidity\":0.2}},\"type\":\"barpolar\"}],\"pie\":[{\"automargin\":true,\"type\":\"pie\"}]},\"layout\":{\"autotypenumbers\":\"strict\",\"colorway\":[\"#636efa\",\"#EF553B\",\"#00cc96\",\"#ab63fa\",\"#FFA15A\",\"#19d3f3\",\"#FF6692\",\"#B6E880\",\"#FF97FF\",\"#FECB52\"],\"font\":{\"color\":\"#2a3f5f\"},\"hovermode\":\"closest\",\"hoverlabel\":{\"align\":\"left\"},\"paper_bgcolor\":\"white\",\"plot_bgcolor\":\"#E5ECF6\",\"polar\":{\"bgcolor\":\"#E5ECF6\",\"angularaxis\":{\"gridcolor\":\"white\",\"linecolor\":\"white\",\"ticks\":\"\"},\"radialaxis\":{\"gridcolor\":\"white\",\"linecolor\":\"white\",\"ticks\":\"\"}},\"ternary\":{\"bgcolor\":\"#E5ECF6\",\"aaxis\":{\"gridcolor\":\"white\",\"linecolor\":\"white\",\"ticks\":\"\"},\"baxis\":{\"gridcolor\":\"white\",\"linecolor\":\"white\",\"ticks\":\"\"},\"caxis\":{\"gridcolor\":\"white\",\"linecolor\":\"white\",\"ticks\":\"\"}},\"coloraxis\":{\"colorbar\":{\"outlinewidth\":0,\"ticks\":\"\"}},\"colorscale\":{\"sequential\":[[0.0,\"#0d0887\"],[0.1111111111111111,\"#46039f\"],[0.2222222222222222,\"#7201a8\"],[0.3333333333333333,\"#9c179e\"],[0.4444444444444444,\"#bd3786\"],[0.5555555555555556,\"#d8576b\"],[0.6666666666666666,\"#ed7953\"],[0.7777777777777778,\"#fb9f3a\"],[0.8888888888888888,\"#fdca26\"],[1.0,\"#f0f921\"]],\"sequentialminus\":[[0.0,\"#0d0887\"],[0.1111111111111111,\"#46039f\"],[0.2222222222222222,\"#7201a8\"],[0.3333333333333333,\"#9c179e\"],[0.4444444444444444,\"#bd3786\"],[0.5555555555555556,\"#d8576b\"],[0.6666666666666666,\"#ed7953\"],[0.7777777777777778,\"#fb9f3a\"],[0.8888888888888888,\"#fdca26\"],[1.0,\"#f0f921\"]],\"diverging\":[[0,\"#8e0152\"],[0.1,\"#c51b7d\"],[0.2,\"#de77ae\"],[0.3,\"#f1b6da\"],[0.4,\"#fde0ef\"],[0.5,\"#f7f7f7\"],[0.6,\"#e6f5d0\"],[0.7,\"#b8e186\"],[0.8,\"#7fbc41\"],[0.9,\"#4d9221\"],[1,\"#276419\"]]},\"xaxis\":{\"gridcolor\":\"white\",\"linecolor\":\"white\",\"ticks\":\"\",\"title\":{\"standoff\":15},\"zerolinecolor\":\"white\",\"automargin\":true,\"zerolinewidth\":2},\"yaxis\":{\"gridcolor\":\"white\",\"linecolor\":\"white\",\"ticks\":\"\",\"title\":{\"standoff\":15},\"zerolinecolor\":\"white\",\"automargin\":true,\"zerolinewidth\":2},\"scene\":{\"xaxis\":{\"backgroundcolor\":\"#E5ECF6\",\"gridcolor\":\"white\",\"linecolor\":\"white\",\"showbackground\":true,\"ticks\":\"\",\"zerolinecolor\":\"white\",\"gridwidth\":2},\"yaxis\":{\"backgroundcolor\":\"#E5ECF6\",\"gridcolor\":\"white\",\"linecolor\":\"white\",\"showbackground\":true,\"ticks\":\"\",\"zerolinecolor\":\"white\",\"gridwidth\":2},\"zaxis\":{\"backgroundcolor\":\"#E5ECF6\",\"gridcolor\":\"white\",\"linecolor\":\"white\",\"showbackground\":true,\"ticks\":\"\",\"zerolinecolor\":\"white\",\"gridwidth\":2}},\"shapedefaults\":{\"line\":{\"color\":\"#2a3f5f\"}},\"annotationdefaults\":{\"arrowcolor\":\"#2a3f5f\",\"arrowhead\":0,\"arrowwidth\":1},\"geo\":{\"bgcolor\":\"white\",\"landcolor\":\"#E5ECF6\",\"subunitcolor\":\"white\",\"showland\":true,\"showlakes\":true,\"lakecolor\":\"white\"},\"title\":{\"x\":0.05},\"mapbox\":{\"style\":\"light\"}}},\"coloraxis\":{\"colorbar\":{\"title\":{\"text\":\"Desconto\"}},\"colorscale\":[[0.0,\"#0d0887\"],[0.1111111111111111,\"#46039f\"],[0.2222222222222222,\"#7201a8\"],[0.3333333333333333,\"#9c179e\"],[0.4444444444444444,\"#bd3786\"],[0.5555555555555556,\"#d8576b\"],[0.6666666666666666,\"#ed7953\"],[0.7777777777777778,\"#fb9f3a\"],[0.8888888888888888,\"#fdca26\"],[1.0,\"#f0f921\"]]},\"legend\":{\"tracegroupgap\":0},\"title\":{\"text\":\"Mapa Interativo - M\\u00e9dia de Desconto por Categoria e Marca\"},\"height\":800},                        {\"responsive\": true}                    ).then(function(){\n",
       "                            \n",
       "var gd = document.getElementById('2ee65161-db14-4df3-a60b-a0da4fc4e2e7');\n",
       "var x = new MutationObserver(function (mutations, observer) {{\n",
       "        var display = window.getComputedStyle(gd).display;\n",
       "        if (!display || display === 'none') {{\n",
       "            console.log([gd, 'removed!']);\n",
       "            Plotly.purge(gd);\n",
       "            observer.disconnect();\n",
       "        }}\n",
       "}});\n",
       "\n",
       "// Listen for the removal of the full notebook cells\n",
       "var notebookContainer = gd.closest('#notebook-container');\n",
       "if (notebookContainer) {{\n",
       "    x.observe(notebookContainer, {childList: true});\n",
       "}}\n",
       "\n",
       "// Listen for the clearing of the current output cell\n",
       "var outputEl = gd.closest('.output');\n",
       "if (outputEl) {{\n",
       "    x.observe(outputEl, {childList: true});\n",
       "}}\n",
       "\n",
       "                        })                };                });            </script>        </div>"
      ]
     },
     "metadata": {},
     "output_type": "display_data"
    }
   ],
   "source": [
    "# Seu código aqui\n",
    "# Cálculo da média de desconto por categoria e marca\n",
    "desconto_medio = df.groupby([\"Categoria\", \"Marca\"])[\"Desconto\"].mean().reset_index()\n",
    "\n",
    "# Criar um gráfico de mapa interativo\n",
    "fig = px.treemap(\n",
    "    desconto_medio,\n",
    "    path=[\"Categoria\", \"Marca\"],\n",
    "    values=\"Desconto\",\n",
    "    color=\"Desconto\",\n",
    "    hover_data=[\"Categoria\", \"Marca\"],\n",
    "    title=\"Mapa Interativo - Média de Desconto por Categoria e Marca\",\n",
    "    height=800\n",
    ")\n",
    "fig.update_traces(textinfo=\"label+value\")\n",
    "fig.show()"
   ]
  },
  {
   "cell_type": "markdown",
   "metadata": {},
   "source": [
    "Sinta-se à vontade para ampliar o gráfico interativo, para analisar as outras marcas presentes no conjunto de dados."
   ]
  },
  {
   "cell_type": "code",
   "execution_count": null,
   "metadata": {},
   "outputs": [],
   "source": []
  }
 ],
 "metadata": {
  "colab": {
   "provenance": []
  },
  "kernelspec": {
   "display_name": "Python 3 (ipykernel)",
   "language": "python",
   "name": "python3"
  },
  "language_info": {
   "codemirror_mode": {
    "name": "ipython",
    "version": 3
   },
   "file_extension": ".py",
   "mimetype": "text/x-python",
   "name": "python",
   "nbconvert_exporter": "python",
   "pygments_lexer": "ipython3",
   "version": "3.12.7"
  }
 },
 "nbformat": 4,
 "nbformat_minor": 4
}
